{
 "cells": [
  {
   "cell_type": "markdown",
   "metadata": {},
   "source": [
    "# Calculate Posteriors For Purchase Of Book Of Photos From 20th Century\n",
    "\n",
    "Created: 2023-09-09 by Tom Lever\n",
    "\n",
    "Updated: 2023-09-09 by Tom Lever\n",
    "\n",
    "You have an online business selling books. A publisher has just given you a large book with photos from 20th-century photographers. You think this book will appeal to people who have bought art books, history books, and coffee-table books. In an initial offering of the new book you collect data on purchases of the new book and combine these data with data from past purchases.\n",
    "\n",
    "Use Bayesian analysis to give the posterior probabilities for purchases of art books, history books, and coffee table books. Give the separate probabilities for purchases of the new book given each possible combination of prior purchases of art books, history books, and coffee table books. Do this first by using Beta priors with values of the hyperparameters that represent lack of prior information. Then compute these probabilities again with Beta priors that show strong weighting for low likelihood of a book purchase. Compare your results."
   ]
  },
  {
   "cell_type": "code",
   "execution_count": 8,
   "metadata": {},
   "outputs": [
    {
     "name": "stdout",
     "output_type": "stream",
     "text": [
      "1000 included purchase of an art book, a history book, a coffee-table book, and/or our book of photos from 20th century.\n"
     ]
    }
   ],
   "source": [
    "import pandas as pd\n",
    "data_frame_of_purchase_histories = pd.read_csv('ArtHistBooks.csv')\n",
    "data_frame_of_purchase_histories\n",
    "number_of_purchase_histories = data_frame_of_purchase_histories.shape[0]\n",
    "print(f'{number_of_purchase_histories} included purchase of an art book, a history book, a coffee-table book, and/or our book of photos from 20th century.')"
   ]
  },
  {
   "cell_type": "code",
   "execution_count": 9,
   "metadata": {},
   "outputs": [
    {
     "name": "stdout",
     "output_type": "stream",
     "text": [
      "301 purchase histories included purchase of an art book.\n"
     ]
    }
   ],
   "source": [
    "data_frame_of_purchase_histories_with_purchase_of_art_book = data_frame_of_purchase_histories[data_frame_of_purchase_histories['ArtBooks'] > 0]\n",
    "number_of_purchase_histories_with_purchase_of_art_book = data_frame_of_purchase_histories_with_purchase_of_art_book.shape[0]\n",
    "print(f'{number_of_purchase_histories_with_purchase_of_art_book} purchase histories included purchase of an art book.')"
   ]
  },
  {
   "cell_type": "code",
   "execution_count": 10,
   "metadata": {},
   "outputs": [
    {
     "name": "stdout",
     "output_type": "stream",
     "text": [
      "89 purchases included purchase of our book of photos from 20th century.\n"
     ]
    }
   ],
   "source": [
    "data_frame_of_purchases_histories_with_purchase_of_book_of_photos_from_20th_century = data_frame_of_purchase_histories[data_frame_of_purchase_histories['Purchase'] > 0]\n",
    "number_of_purchase_histories_with_purchase_of_book_of_photos_from_20th_century = data_frame_of_purchases_histories_with_purchase_of_book_of_photos_from_20th_century.shape[0]\n",
    "print(f'{number_of_purchase_histories_with_purchase_of_book_of_photos_from_20th_century} purchases included purchase of our book of photos from 20th century.')"
   ]
  },
  {
   "cell_type": "code",
   "execution_count": 11,
   "metadata": {},
   "outputs": [
    {
     "name": "stdout",
     "output_type": "stream",
     "text": [
      "58 purchases included purchase of an art book and our book of photos from 20th century.\n"
     ]
    }
   ],
   "source": [
    "data_frame_of_purchases_histories_with_purchase_of_art_book_and_book_of_photos_from_20th_century = data_frame_of_purchase_histories_with_purchase_of_art_book[data_frame_of_purchase_histories_with_purchase_of_art_book['Purchase'] > 0]\n",
    "number_of_purchase_histories_with_purchase_of_art_book_and_book_of_photos_from_20th_century = data_frame_of_purchases_histories_with_purchase_of_art_book_and_book_of_photos_from_20th_century.shape[0]\n",
    "print(f'{number_of_purchase_histories_with_purchase_of_art_book_and_book_of_photos_from_20th_century} purchases included purchase of an art book and our book of photos from 20th century.')"
   ]
  },
  {
   "cell_type": "code",
   "execution_count": 12,
   "metadata": {},
   "outputs": [
    {
     "name": "stdout",
     "output_type": "stream",
     "text": [
      "The probability that a purchase history will include purchase of our book of photos from 20th century P(book of photos from 20th century) = 0.089\n",
      "The probability that a purchase history will include purchase of our book of photos from 20th century given that the purchase history includes purchase of an art book P(book of photos from 20th century | art book) = 0.19269102990033224\n"
     ]
    }
   ],
   "source": [
    "probability_that_purchase_history_will_include_book_of_photos_from_20th_century = number_of_purchase_histories_with_purchase_of_book_of_photos_from_20th_century / number_of_purchase_histories\n",
    "probability_that_purchase_history_will_include_purchase_of_book_of_photos_from_20th_century_given_purchase_history_includes_purchase_of_art_book = number_of_purchase_histories_with_purchase_of_art_book_and_book_of_photos_from_20th_century / number_of_purchase_histories_with_purchase_of_art_book\n",
    "print(f'The probability that a purchase history will include purchase of our book of photos from 20th century P(book of photos from 20th century) = {probability_that_purchase_history_will_include_book_of_photos_from_20th_century}')\n",
    "print(f'The probability that a purchase history will include purchase of our book of photos from 20th century given that the purchase history includes purchase of an art book P(book of photos from 20th century | art book) = {probability_that_purchase_history_will_include_purchase_of_book_of_photos_from_20th_century_given_purchase_history_includes_purchase_of_art_book}')"
   ]
  },
  {
   "cell_type": "markdown",
   "metadata": {},
   "source": [
    "Is a customer more likely to buy our book of photos from 20th century given that we know that the customer bought an art book? Yes. The probability that a customer will purchase our book of photos from the 20th century given that the customer purchased an art book, $0.193$, is about double the probability that a customer will purchase our book of photos from 20th century, $0.089$."
   ]
  }
 ],
 "metadata": {
  "kernelspec": {
   "display_name": "Python 3",
   "language": "python",
   "name": "python3"
  },
  "language_info": {
   "codemirror_mode": {
    "name": "ipython",
    "version": 3
   },
   "file_extension": ".py",
   "mimetype": "text/x-python",
   "name": "python",
   "nbconvert_exporter": "python",
   "pygments_lexer": "ipython3",
   "version": "3.11.3"
  },
  "orig_nbformat": 4
 },
 "nbformat": 4,
 "nbformat_minor": 2
}
