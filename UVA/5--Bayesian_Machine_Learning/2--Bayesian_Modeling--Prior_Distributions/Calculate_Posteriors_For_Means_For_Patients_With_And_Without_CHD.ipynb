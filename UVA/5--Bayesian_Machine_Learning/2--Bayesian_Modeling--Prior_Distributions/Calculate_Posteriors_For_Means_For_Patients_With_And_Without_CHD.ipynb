{
 "cells": [
  {
   "cell_type": "markdown",
   "metadata": {},
   "source": [
    "# Calculate Posteriors For Means For Patients With And Without CHD\n",
    "\n",
    "Created: 2023-09-09 by Tom Lever\n",
    "\n",
    "Updated: 2023-09-09 by Tom Lever\n",
    "\n",
    "The data set `CHDdata.csv` contains cases of coronary heart disease (CHD) and variables associated with the patient's condition: systolic blood pressure (`sbp`, $mm \\ Hg$), yearly tobacco use (`tobacco`, $kg$), low-density lipoprotein (`ldl`), adiposity (`adiposity`), famly history of CHD (`famhist`, 0 or 1), type-A personality score (`typea`), obesity (`obesity`), alcohol use (`alcohol`), age (`age`, $years$), and the diagnosis of CHD (`chd`, 0 or 1).\n",
    "\n",
    "Perform a Bayesian analysis of these data that finds the posterior marginal probability distributions for the means for the data of patients with and without CHD. You should first standardize (i.e., subtract the mean from and divide by the standard deviation) all the numeric variables (remove family history and do not scale CHD). Then separate the data into two sets, one for patients with CHD and one for patients without CHD.\n",
    "\n",
    "Your priors for both groups should assume means of $0$ for all variables and a correlation of $0$ between all pairs of variables. You should assume all variables for the variables are $1$. Use a prior $alpha$ equal to $1$ plus the number of predictor variables. Compute and compare the Bayesian estimates for the posterior means for each group.\n",
    "\n",
    "For $5$ extra credit points, compute the probability of observing a point at least as extreme as the posterior mean of patients without CHD under the posterior distribution for the patients with CHD. Then compute the probability of observing a point at least as extreme as the posterior mean of patients with CHD under the posterior distribution for the patients without CHD."
   ]
  }
 ],
 "metadata": {
  "language_info": {
   "name": "python"
  },
  "orig_nbformat": 4
 },
 "nbformat": 4,
 "nbformat_minor": 2
}
