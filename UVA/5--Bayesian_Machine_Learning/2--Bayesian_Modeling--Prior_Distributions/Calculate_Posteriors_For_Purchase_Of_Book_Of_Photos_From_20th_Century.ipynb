{
 "cells": [
  {
   "cell_type": "code",
   "execution_count": 1,
   "metadata": {},
   "outputs": [
    {
     "name": "stdout",
     "output_type": "stream",
     "text": [
      "1000 involved an art book, a history book, a coffee-table book, and/or our book of photos from 20th century.\n"
     ]
    }
   ],
   "source": [
    "import pandas as pd\n",
    "data_frame_of_purchases = pd.read_csv('ArtHistBooks.csv')\n",
    "data_frame_of_purchases\n",
    "number_of_purchases = data_frame_of_purchases.shape[0]\n",
    "print(f'{number_of_purchases} involved an art book, a history book, a coffee-table book, and/or our book of photos from 20th century.')"
   ]
  },
  {
   "cell_type": "code",
   "execution_count": 2,
   "metadata": {},
   "outputs": [
    {
     "name": "stdout",
     "output_type": "stream",
     "text": [
      "301 purchases involved an art book\n"
     ]
    }
   ],
   "source": [
    "data_frame_of_purchases_of_art_book = data_frame_of_purchases[data_frame_of_purchases['ArtBooks'] > 0]\n",
    "number_of_purchases_of_art_book = data_frame_of_purchases_of_art_book.shape[0]\n",
    "print(f'{number_of_purchases_of_art_book} purchases involved an art book')"
   ]
  },
  {
   "cell_type": "code",
   "execution_count": 3,
   "metadata": {},
   "outputs": [
    {
     "name": "stdout",
     "output_type": "stream",
     "text": [
      "89 purchases involved our book of photos from 20th century.\n"
     ]
    }
   ],
   "source": [
    "data_frame_of_purchases_of_book_of_photos_from_20th_century = data_frame_of_purchases[data_frame_of_purchases['Purchase'] > 0]\n",
    "number_of_purchases_of_book_of_photos_from_20th_century = data_frame_of_purchases_of_book_of_photos_from_20th_century.shape[0]\n",
    "print(f'{number_of_purchases_of_book_of_photos_from_20th_century} purchases involved our book of photos from 20th century.')"
   ]
  },
  {
   "cell_type": "code",
   "execution_count": 4,
   "metadata": {},
   "outputs": [
    {
     "name": "stdout",
     "output_type": "stream",
     "text": [
      "58 purchases involved an art book and our book of photos from 20th century.\n"
     ]
    }
   ],
   "source": [
    "data_frame_of_purchases_of_art_book_and_book_of_photos_from_20th_century = data_frame_of_purchases_of_art_book[data_frame_of_purchases_of_art_book['Purchase'] > 0]\n",
    "number_of_purchases_of_art_book_and_book_of_photos_from_20th_century = data_frame_of_purchases_of_art_book_and_book_of_photos_from_20th_century.shape[0]\n",
    "number_of_purchases_of_art_book_and_book_of_photos_from_20th_century\n",
    "print(f'{number_of_purchases_of_art_book_and_book_of_photos_from_20th_century} purchases involved an art book and our book of photos from 20th century.')"
   ]
  },
  {
   "cell_type": "code",
   "execution_count": 5,
   "metadata": {},
   "outputs": [
    {
     "name": "stdout",
     "output_type": "stream",
     "text": [
      "The probability that a purchase will involve our book of photos from 20th century P(book of photos from 20th century) = 0.089\n",
      "The probability that a purchase will involve our book of photos from 20th century given that the purchase involves an art book P(book of photos from 20th century | art book) = 0.19269102990033224\n"
     ]
    }
   ],
   "source": [
    "probability_that_purchase_will_involve_book_of_photos_from_20th_century = number_of_purchases_of_book_of_photos_from_20th_century / number_of_purchases\n",
    "probability_that_purchase_will_involve_book_of_photos_from_20th_century_given_purchase_involves_art_book = number_of_purchases_of_art_book_and_book_of_photos_from_20th_century / number_of_purchases_of_art_book\n",
    "print(f'The probability that a purchase will involve our book of photos from 20th century P(book of photos from 20th century) = {probability_that_purchase_will_involve_book_of_photos_from_20th_century}')\n",
    "print(f'The probability that a purchase will involve our book of photos from 20th century given that the purchase involves an art book P(book of photos from 20th century | art book) = {probability_that_purchase_will_involve_book_of_photos_from_20th_century_given_purchase_involves_art_book}')"
   ]
  },
  {
   "cell_type": "markdown",
   "metadata": {},
   "source": [
    "Is a customer more likely to buy our book of photos from 20th century given that we know that the customer bought an art book? Yes. The probability that a customer will purchase our book of photos from the 20th century given that the customer purchased an art book, $0.193$, is about double the probability that a customer will purchase our book of photos from 20th century, $0.089$."
   ]
  }
 ],
 "metadata": {
  "kernelspec": {
   "display_name": "Python 3",
   "language": "python",
   "name": "python3"
  },
  "language_info": {
   "codemirror_mode": {
    "name": "ipython",
    "version": 3
   },
   "file_extension": ".py",
   "mimetype": "text/x-python",
   "name": "python",
   "nbconvert_exporter": "python",
   "pygments_lexer": "ipython3",
   "version": "3.11.3"
  },
  "orig_nbformat": 4
 },
 "nbformat": 4,
 "nbformat_minor": 2
}
