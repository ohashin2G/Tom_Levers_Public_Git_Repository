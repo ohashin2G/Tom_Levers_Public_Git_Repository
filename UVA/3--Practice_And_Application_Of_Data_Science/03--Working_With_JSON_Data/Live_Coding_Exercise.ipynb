{
 "cells": [
  {
   "cell_type": "markdown",
   "id": "d8f8295e",
   "metadata": {},
   "source": [
    "# Live Coding Assignment\n",
    "Module 3: Working With JSON Data"
   ]
  },
  {
   "cell_type": "code",
   "execution_count": 1,
   "id": "e4f27765",
   "metadata": {},
   "outputs": [],
   "source": [
    "import numpy as np\n",
    "import pandas as pd\n",
    "import requests\n",
    "import json"
   ]
  },
  {
   "cell_type": "code",
   "execution_count": 2,
   "id": "03fd5faa",
   "metadata": {},
   "outputs": [],
   "source": [
    "url = 'https://www.thecocktaildb.com/api/json/v1/1/filter.php?c=Cocktail'"
   ]
  },
  {
   "cell_type": "code",
   "execution_count": 3,
   "id": "cf20bb9a",
   "metadata": {},
   "outputs": [
    {
     "data": {
      "text/plain": [
       "<Response [200]>"
      ]
     },
     "execution_count": 3,
     "metadata": {},
     "output_type": "execute_result"
    }
   ],
   "source": [
    "r = requests.get(url)\n",
    "r"
   ]
  },
  {
   "cell_type": "code",
   "execution_count": 6,
   "id": "1f44c496",
   "metadata": {},
   "outputs": [],
   "source": [
    "myjson = json.loads(r.text)\n",
    "\n",
    "# json.loads() string -> dictionary/lists; s means string\n",
    "# json.load() stream -> dictionary/lists; this expects an external file\n",
    "# json.dumps() dictionary/list -> string; s means string\n",
    "# json.dump() dictionary/list -> stream; this expects an external file"
   ]
  },
  {
   "cell_type": "code",
   "execution_count": 7,
   "id": "1838790a",
   "metadata": {},
   "outputs": [
    {
     "data": {
      "text/plain": [
       "'https://www.thecocktaildb.com/images/media/drink/yqvvqs1475667388.jpg'"
      ]
     },
     "execution_count": 7,
     "metadata": {},
     "output_type": "execute_result"
    }
   ],
   "source": [
    "myjson['drinks'][0]['strDrinkThumb']"
   ]
  },
  {
   "cell_type": "code",
   "execution_count": 9,
   "id": "a91d22d7",
   "metadata": {},
   "outputs": [
    {
     "data": {
      "text/plain": [
       "['https://www.thecocktaildb.com/images/media/drink/yqvvqs1475667388.jpg',\n",
       " 'https://www.thecocktaildb.com/images/media/drink/qyyvtu1468878544.jpg',\n",
       " 'https://www.thecocktaildb.com/images/media/drink/i9suxb1582474926.jpg',\n",
       " 'https://www.thecocktaildb.com/images/media/drink/xvwusr1472669302.jpg',\n",
       " 'https://www.thecocktaildb.com/images/media/drink/wysqut1461867176.jpg']"
      ]
     },
     "execution_count": 9,
     "metadata": {},
     "output_type": "execute_result"
    }
   ],
   "source": [
    "[x['strDrinkThumb'] for x in myjson['drinks']][0:5]"
   ]
  },
  {
   "cell_type": "code",
   "execution_count": 10,
   "id": "2163d1f5",
   "metadata": {},
   "outputs": [
    {
     "data": {
      "text/html": [
       "<div>\n",
       "<style scoped>\n",
       "    .dataframe tbody tr th:only-of-type {\n",
       "        vertical-align: middle;\n",
       "    }\n",
       "\n",
       "    .dataframe tbody tr th {\n",
       "        vertical-align: top;\n",
       "    }\n",
       "\n",
       "    .dataframe thead th {\n",
       "        text-align: right;\n",
       "    }\n",
       "</style>\n",
       "<table border=\"1\" class=\"dataframe\">\n",
       "  <thead>\n",
       "    <tr style=\"text-align: right;\">\n",
       "      <th></th>\n",
       "      <th>strDrink</th>\n",
       "      <th>strDrinkThumb</th>\n",
       "      <th>idDrink</th>\n",
       "    </tr>\n",
       "  </thead>\n",
       "  <tbody>\n",
       "    <tr>\n",
       "      <th>0</th>\n",
       "      <td>155 Belmont</td>\n",
       "      <td>https://www.thecocktaildb.com/images/media/dri...</td>\n",
       "      <td>15346</td>\n",
       "    </tr>\n",
       "    <tr>\n",
       "      <th>1</th>\n",
       "      <td>57 Chevy with a White License Plate</td>\n",
       "      <td>https://www.thecocktaildb.com/images/media/dri...</td>\n",
       "      <td>14029</td>\n",
       "    </tr>\n",
       "    <tr>\n",
       "      <th>2</th>\n",
       "      <td>747 Drink</td>\n",
       "      <td>https://www.thecocktaildb.com/images/media/dri...</td>\n",
       "      <td>178318</td>\n",
       "    </tr>\n",
       "    <tr>\n",
       "      <th>3</th>\n",
       "      <td>9 1/2 Weeks</td>\n",
       "      <td>https://www.thecocktaildb.com/images/media/dri...</td>\n",
       "      <td>16108</td>\n",
       "    </tr>\n",
       "    <tr>\n",
       "      <th>4</th>\n",
       "      <td>A Gilligan's Island</td>\n",
       "      <td>https://www.thecocktaildb.com/images/media/dri...</td>\n",
       "      <td>16943</td>\n",
       "    </tr>\n",
       "    <tr>\n",
       "      <th>...</th>\n",
       "      <td>...</td>\n",
       "      <td>...</td>\n",
       "      <td>...</td>\n",
       "    </tr>\n",
       "    <tr>\n",
       "      <th>95</th>\n",
       "      <td>Michelada</td>\n",
       "      <td>https://www.thecocktaildb.com/images/media/dri...</td>\n",
       "      <td>178343</td>\n",
       "    </tr>\n",
       "    <tr>\n",
       "      <th>96</th>\n",
       "      <td>Midnight Mint</td>\n",
       "      <td>https://www.thecocktaildb.com/images/media/dri...</td>\n",
       "      <td>14842</td>\n",
       "    </tr>\n",
       "    <tr>\n",
       "      <th>97</th>\n",
       "      <td>Mojito</td>\n",
       "      <td>https://www.thecocktaildb.com/images/media/dri...</td>\n",
       "      <td>11000</td>\n",
       "    </tr>\n",
       "    <tr>\n",
       "      <th>98</th>\n",
       "      <td>Mojito Extra</td>\n",
       "      <td>https://www.thecocktaildb.com/images/media/dri...</td>\n",
       "      <td>15841</td>\n",
       "    </tr>\n",
       "    <tr>\n",
       "      <th>99</th>\n",
       "      <td>Mountain Bramble</td>\n",
       "      <td>https://www.thecocktaildb.com/images/media/dri...</td>\n",
       "      <td>178355</td>\n",
       "    </tr>\n",
       "  </tbody>\n",
       "</table>\n",
       "<p>100 rows × 3 columns</p>\n",
       "</div>"
      ],
      "text/plain": [
       "                               strDrink  \\\n",
       "0                           155 Belmont   \n",
       "1   57 Chevy with a White License Plate   \n",
       "2                             747 Drink   \n",
       "3                           9 1/2 Weeks   \n",
       "4                   A Gilligan's Island   \n",
       "..                                  ...   \n",
       "95                            Michelada   \n",
       "96                        Midnight Mint   \n",
       "97                               Mojito   \n",
       "98                         Mojito Extra   \n",
       "99                     Mountain Bramble   \n",
       "\n",
       "                                        strDrinkThumb idDrink  \n",
       "0   https://www.thecocktaildb.com/images/media/dri...   15346  \n",
       "1   https://www.thecocktaildb.com/images/media/dri...   14029  \n",
       "2   https://www.thecocktaildb.com/images/media/dri...  178318  \n",
       "3   https://www.thecocktaildb.com/images/media/dri...   16108  \n",
       "4   https://www.thecocktaildb.com/images/media/dri...   16943  \n",
       "..                                                ...     ...  \n",
       "95  https://www.thecocktaildb.com/images/media/dri...  178343  \n",
       "96  https://www.thecocktaildb.com/images/media/dri...   14842  \n",
       "97  https://www.thecocktaildb.com/images/media/dri...   11000  \n",
       "98  https://www.thecocktaildb.com/images/media/dri...   15841  \n",
       "99  https://www.thecocktaildb.com/images/media/dri...  178355  \n",
       "\n",
       "[100 rows x 3 columns]"
      ]
     },
     "execution_count": 10,
     "metadata": {},
     "output_type": "execute_result"
    }
   ],
   "source": [
    "pd.json_normalize(myjson, record_path = ['drinks'])"
   ]
  },
  {
   "cell_type": "code",
   "execution_count": 11,
   "id": "f3ada32c",
   "metadata": {},
   "outputs": [
    {
     "data": {
      "text/plain": [
       "<Response [200]>"
      ]
     },
     "execution_count": 11,
     "metadata": {},
     "output_type": "execute_result"
    }
   ],
   "source": [
    "url = 'https://en.wikipedia.org/w/api.php?action=query&list=search&srsearch=Virginia&format=json&srlimit=500'\n",
    "r = requests.get(url)\n",
    "r"
   ]
  },
  {
   "cell_type": "code",
   "execution_count": 12,
   "id": "c6eeb657",
   "metadata": {},
   "outputs": [
    {
     "data": {
      "text/html": [
       "<div>\n",
       "<style scoped>\n",
       "    .dataframe tbody tr th:only-of-type {\n",
       "        vertical-align: middle;\n",
       "    }\n",
       "\n",
       "    .dataframe tbody tr th {\n",
       "        vertical-align: top;\n",
       "    }\n",
       "\n",
       "    .dataframe thead th {\n",
       "        text-align: right;\n",
       "    }\n",
       "</style>\n",
       "<table border=\"1\" class=\"dataframe\">\n",
       "  <thead>\n",
       "    <tr style=\"text-align: right;\">\n",
       "      <th></th>\n",
       "      <th>ns</th>\n",
       "      <th>title</th>\n",
       "      <th>pageid</th>\n",
       "      <th>size</th>\n",
       "      <th>wordcount</th>\n",
       "      <th>snippet</th>\n",
       "      <th>timestamp</th>\n",
       "    </tr>\n",
       "  </thead>\n",
       "  <tbody>\n",
       "    <tr>\n",
       "      <th>0</th>\n",
       "      <td>0</td>\n",
       "      <td>Virginia</td>\n",
       "      <td>32432</td>\n",
       "      <td>297339</td>\n",
       "      <td>25683</td>\n",
       "      <td>&lt;span class=\"searchmatch\"&gt;Virginia&lt;/span&gt;, off...</td>\n",
       "      <td>2023-01-28T19:08:31Z</td>\n",
       "    </tr>\n",
       "    <tr>\n",
       "      <th>1</th>\n",
       "      <td>0</td>\n",
       "      <td>West Virginia</td>\n",
       "      <td>32905</td>\n",
       "      <td>183261</td>\n",
       "      <td>17506</td>\n",
       "      <td>West &lt;span class=\"searchmatch\"&gt;Virginia&lt;/span&gt;...</td>\n",
       "      <td>2023-01-29T20:30:07Z</td>\n",
       "    </tr>\n",
       "    <tr>\n",
       "      <th>2</th>\n",
       "      <td>0</td>\n",
       "      <td>Virginia Beach, Virginia</td>\n",
       "      <td>91239</td>\n",
       "      <td>130491</td>\n",
       "      <td>11788</td>\n",
       "      <td>&lt;span class=\"searchmatch\"&gt;Virginia&lt;/span&gt; Beac...</td>\n",
       "      <td>2023-01-31T15:42:01Z</td>\n",
       "    </tr>\n",
       "    <tr>\n",
       "      <th>3</th>\n",
       "      <td>0</td>\n",
       "      <td>Virginia Woolf</td>\n",
       "      <td>32742</td>\n",
       "      <td>329612</td>\n",
       "      <td>31706</td>\n",
       "      <td>Adeline &lt;span class=\"searchmatch\"&gt;Virginia&lt;/sp...</td>\n",
       "      <td>2023-01-29T16:50:04Z</td>\n",
       "    </tr>\n",
       "    <tr>\n",
       "      <th>4</th>\n",
       "      <td>0</td>\n",
       "      <td>Norfolk, Virginia</td>\n",
       "      <td>57898</td>\n",
       "      <td>141027</td>\n",
       "      <td>13515</td>\n",
       "      <td>(/ˈnɔːrfʊk/ (listen) NOR-fuk) is an independen...</td>\n",
       "      <td>2023-01-26T04:19:08Z</td>\n",
       "    </tr>\n",
       "    <tr>\n",
       "      <th>...</th>\n",
       "      <td>...</td>\n",
       "      <td>...</td>\n",
       "      <td>...</td>\n",
       "      <td>...</td>\n",
       "      <td>...</td>\n",
       "      <td>...</td>\n",
       "      <td>...</td>\n",
       "    </tr>\n",
       "    <tr>\n",
       "      <th>495</th>\n",
       "      <td>0</td>\n",
       "      <td>1965 Virginia gubernatorial election</td>\n",
       "      <td>43329687</td>\n",
       "      <td>20579</td>\n",
       "      <td>175</td>\n",
       "      <td>In the 1965 &lt;span class=\"searchmatch\"&gt;Virginia...</td>\n",
       "      <td>2022-06-26T00:19:53Z</td>\n",
       "    </tr>\n",
       "    <tr>\n",
       "      <th>496</th>\n",
       "      <td>0</td>\n",
       "      <td>Virginia Brown Faire</td>\n",
       "      <td>4620736</td>\n",
       "      <td>9873</td>\n",
       "      <td>869</td>\n",
       "      <td>&lt;span class=\"searchmatch\"&gt;Virginia&lt;/span&gt; Brow...</td>\n",
       "      <td>2022-12-03T20:41:08Z</td>\n",
       "    </tr>\n",
       "    <tr>\n",
       "      <th>497</th>\n",
       "      <td>0</td>\n",
       "      <td>Accomack County, Virginia</td>\n",
       "      <td>91369</td>\n",
       "      <td>23813</td>\n",
       "      <td>1659</td>\n",
       "      <td>edge of the Commonwealth of &lt;span class=\"searc...</td>\n",
       "      <td>2022-12-25T22:03:53Z</td>\n",
       "    </tr>\n",
       "    <tr>\n",
       "      <th>498</th>\n",
       "      <td>0</td>\n",
       "      <td>West Virginia State Board of Education v. Barn...</td>\n",
       "      <td>157960</td>\n",
       "      <td>30594</td>\n",
       "      <td>3771</td>\n",
       "      <td>West &lt;span class=\"searchmatch\"&gt;Virginia&lt;/span&gt;...</td>\n",
       "      <td>2023-01-08T15:08:40Z</td>\n",
       "    </tr>\n",
       "    <tr>\n",
       "      <th>499</th>\n",
       "      <td>0</td>\n",
       "      <td>West Virginia's congressional districts</td>\n",
       "      <td>21551047</td>\n",
       "      <td>4559</td>\n",
       "      <td>212</td>\n",
       "      <td>The U.S. state of West &lt;span class=\"searchmatc...</td>\n",
       "      <td>2023-01-07T17:42:30Z</td>\n",
       "    </tr>\n",
       "  </tbody>\n",
       "</table>\n",
       "<p>500 rows × 7 columns</p>\n",
       "</div>"
      ],
      "text/plain": [
       "     ns                                              title    pageid    size  \\\n",
       "0     0                                           Virginia     32432  297339   \n",
       "1     0                                      West Virginia     32905  183261   \n",
       "2     0                           Virginia Beach, Virginia     91239  130491   \n",
       "3     0                                     Virginia Woolf     32742  329612   \n",
       "4     0                                  Norfolk, Virginia     57898  141027   \n",
       "..   ..                                                ...       ...     ...   \n",
       "495   0               1965 Virginia gubernatorial election  43329687   20579   \n",
       "496   0                               Virginia Brown Faire   4620736    9873   \n",
       "497   0                          Accomack County, Virginia     91369   23813   \n",
       "498   0  West Virginia State Board of Education v. Barn...    157960   30594   \n",
       "499   0            West Virginia's congressional districts  21551047    4559   \n",
       "\n",
       "     wordcount                                            snippet  \\\n",
       "0        25683  <span class=\"searchmatch\">Virginia</span>, off...   \n",
       "1        17506  West <span class=\"searchmatch\">Virginia</span>...   \n",
       "2        11788  <span class=\"searchmatch\">Virginia</span> Beac...   \n",
       "3        31706  Adeline <span class=\"searchmatch\">Virginia</sp...   \n",
       "4        13515  (/ˈnɔːrfʊk/ (listen) NOR-fuk) is an independen...   \n",
       "..         ...                                                ...   \n",
       "495        175  In the 1965 <span class=\"searchmatch\">Virginia...   \n",
       "496        869  <span class=\"searchmatch\">Virginia</span> Brow...   \n",
       "497       1659  edge of the Commonwealth of <span class=\"searc...   \n",
       "498       3771  West <span class=\"searchmatch\">Virginia</span>...   \n",
       "499        212  The U.S. state of West <span class=\"searchmatc...   \n",
       "\n",
       "                timestamp  \n",
       "0    2023-01-28T19:08:31Z  \n",
       "1    2023-01-29T20:30:07Z  \n",
       "2    2023-01-31T15:42:01Z  \n",
       "3    2023-01-29T16:50:04Z  \n",
       "4    2023-01-26T04:19:08Z  \n",
       "..                    ...  \n",
       "495  2022-06-26T00:19:53Z  \n",
       "496  2022-12-03T20:41:08Z  \n",
       "497  2022-12-25T22:03:53Z  \n",
       "498  2023-01-08T15:08:40Z  \n",
       "499  2023-01-07T17:42:30Z  \n",
       "\n",
       "[500 rows x 7 columns]"
      ]
     },
     "execution_count": 12,
     "metadata": {},
     "output_type": "execute_result"
    }
   ],
   "source": [
    "myjson = json.loads(r.text)\n",
    "wikivirginiadf = pd.json_normalize(myjson, record_path = ['query', 'search'])\n",
    "wikivirginiadf"
   ]
  },
  {
   "cell_type": "code",
   "execution_count": 17,
   "id": "5997d7d1",
   "metadata": {},
   "outputs": [
    {
     "data": {
      "text/plain": [
       "<Response [200]>"
      ]
     },
     "execution_count": 17,
     "metadata": {},
     "output_type": "execute_result"
    }
   ],
   "source": [
    "mykey = '38455d259a1b4b9098fbb79441fab63d'\n",
    "myparams = {\n",
    "    'apiKey': mykey,\n",
    "    'q': 'gorilla'\n",
    "}\n",
    "url = 'https://newsapi.org/v2/everything'\n",
    "r = requests.get(url, params = myparams)\n",
    "r"
   ]
  },
  {
   "cell_type": "code",
   "execution_count": 21,
   "id": "2510689d",
   "metadata": {},
   "outputs": [
    {
     "name": "stdout",
     "output_type": "stream",
     "text": [
      "Two monkeys have allegedly been taken from Dallas Zoo - adding to a series of suspicious events including the release of a leopard and a vulture's death.\r\n",
      "Police were alerted on Monday when keepers f… [+1831 chars]\n"
     ]
    }
   ],
   "source": [
    "mydata = pd.json_normalize(json.loads(r.text), record_path = ['articles'])\n",
    "print(mydata.content[5])"
   ]
  },
  {
   "cell_type": "code",
   "execution_count": null,
   "id": "5d591b5b",
   "metadata": {},
   "outputs": [],
   "source": []
  }
 ],
 "metadata": {
  "kernelspec": {
   "display_name": "Python 3 (ipykernel)",
   "language": "python",
   "name": "python3"
  },
  "language_info": {
   "codemirror_mode": {
    "name": "ipython",
    "version": 3
   },
   "file_extension": ".py",
   "mimetype": "text/x-python",
   "name": "python",
   "nbconvert_exporter": "python",
   "pygments_lexer": "ipython3",
   "version": "3.9.13"
  }
 },
 "nbformat": 4,
 "nbformat_minor": 5
}
